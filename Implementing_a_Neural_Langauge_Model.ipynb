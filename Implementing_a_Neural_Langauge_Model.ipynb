{
  "nbformat": 4,
  "nbformat_minor": 0,
  "metadata": {
    "colab": {
      "name": "Implementing a Neural Langauge Model.ipynb",
      "provenance": []
    },
    "kernelspec": {
      "name": "python3",
      "display_name": "Python 3"
    },
    "language_info": {
      "name": "python"
    }
  },
  "cells": [
    {
      "cell_type": "code",
      "metadata": {
        "id": "qLOj5KAxC4q9"
      },
      "source": [
        "import torch\n",
        "import torch.nn as nn"
      ],
      "execution_count": 1,
      "outputs": []
    },
    {
      "cell_type": "code",
      "metadata": {
        "id": "JCS7LMDnw-Kh"
      },
      "source": [
        "sentences = ['We ate apple', 'They went cafe','She cut pears  ','They went school']"
      ],
      "execution_count": 2,
      "outputs": []
    },
    {
      "cell_type": "code",
      "metadata": {
        "colab": {
          "base_uri": "https://localhost:8080/"
        },
        "id": "_-GPgIWSxTlJ",
        "outputId": "79f5146b-89eb-4ca6-c5a9-7fffde1c7cf0"
      },
      "source": [
        "#Giving each unique word their unique indexes\n",
        "\n",
        "index = {} # stores word and their corresponding indices\n",
        "inputs = []  # stores indices by sentences\n",
        "for sentence in sentences:\n",
        "  indexofsentence = []\n",
        "  for word in (sentence.split()):\n",
        "    if word not in index:\n",
        "      index[word] = len(index)\n",
        "    \n",
        "    indexofsentence.append(index[word])\n",
        "\n",
        "  inputs.append(indexofsentence)\n",
        "\n",
        "print (index)\n",
        "print (inputs)"
      ],
      "execution_count": 3,
      "outputs": [
        {
          "output_type": "stream",
          "name": "stdout",
          "text": [
            "{'We': 0, 'ate': 1, 'apple': 2, 'They': 3, 'went': 4, 'cafe': 5, 'She': 6, 'cut': 7, 'pears': 8, 'school': 9}\n",
            "[[0, 1, 2], [3, 4, 5], [6, 7, 8], [3, 4, 9]]\n"
          ]
        }
      ]
    },
    {
      "cell_type": "code",
      "metadata": {
        "colab": {
          "base_uri": "https://localhost:8080/"
        },
        "id": "E1R8iPZ5Ahss",
        "outputId": "e298688c-8c03-4bd4-e19e-5b96cbd106e7"
      },
      "source": [
        "prefixes = torch.LongTensor([ind[:-1] for ind in inputs])\n",
        "labels = torch.LongTensor([ind[-1] for ind in inputs])\n",
        "prefixes,labels"
      ],
      "execution_count": 4,
      "outputs": [
        {
          "output_type": "execute_result",
          "data": {
            "text/plain": [
              "(tensor([[0, 1],\n",
              "         [3, 4],\n",
              "         [6, 7],\n",
              "         [3, 4]]), tensor([2, 5, 8, 9]))"
            ]
          },
          "metadata": {},
          "execution_count": 4
        }
      ]
    },
    {
      "cell_type": "code",
      "metadata": {
        "colab": {
          "base_uri": "https://localhost:8080/"
        },
        "id": "fIWbsLm0AiXL",
        "outputId": "3c2c0e89-8613-4e1f-fdfd-89f6305da8c9"
      },
      "source": [
        "class NLM(nn.Module):\n",
        "\n",
        "  # init function -- initializes all the parameters of the network | # forward function\n",
        "  def __init__ (self,d_embedding, d_hidden, window_size, len_vocab):\n",
        "    super().__init__()\n",
        "    self.d_emb = d_embedding\n",
        "    self.embeddings = nn.Embedding(len_vocab, d_embedding)     \n",
        "    self.W_hidden = nn.Linear(d_embedding*window_size, d_hidden)    #concatenate embeddings to hidden \n",
        "    self.W_out = nn.Linear(d_hidden, len_vocab)        #hidden -->> output probability distribution function\n",
        "\n",
        "  def forward (self, input):   #each input will be a batch of prefixes at least for this example\n",
        "    batch_size, window_size = input.size()\n",
        "    embs = self.embeddings(input)  #4*2*5\n",
        "    # print ('embedding size:', embs.size())\n",
        "    #next, we want to concatenate the prefix embeddings together\n",
        "    concat_embs = embs.view(batch_size, window_size*self.d_emb)\n",
        "    # print (embs.size())\n",
        "    # print (embs)\n",
        "    # print (concat_embs)\n",
        "    hiddens = self.W_hidden(concat_embs)\n",
        "    # print ('hidden size:',hiddens.size())\n",
        "    #finally project hiddent o vocab space \n",
        "    outs = self.W_out(hiddens)\n",
        "    # print ('output size:',outs.size())\n",
        "    return outs\n",
        "\n",
        "model = NLM(d_embedding = 5, d_hidden=12, window_size=2, len_vocab=len(index))\n",
        "\n",
        "num_epochs = 150 \n",
        "lr = 0.1\n",
        "loss_fn = nn.CrossEntropyLoss()\n",
        "optimizer = torch.optim.SGD(params = model.parameters(), lr =lr)\n",
        "\n",
        "for i in range(num_epochs):\n",
        "  logits = model(prefixes)\n",
        "  loss = loss_fn(logits,labels)\n",
        "  # print (loss)\n",
        "  #updating the parameters \n",
        "  #step 1 : compute gradient (partial deriv of loss wrt parameters)\n",
        "  \n",
        "  loss.backward()\n",
        "  #step 2: update params using gradient descent\n",
        "  optimizer.step()\n",
        "  #step 3 : zero out the gradients -- make sure we dont accumulate\n",
        "  optimizer.zero_grad()\n",
        "\n",
        "  print (f'epoch {i}, loss {loss}')"
      ],
      "execution_count": 13,
      "outputs": [
        {
          "output_type": "stream",
          "name": "stdout",
          "text": [
            "epoch 0, loss 2.2702059745788574\n",
            "epoch 1, loss 2.044121503829956\n",
            "epoch 2, loss 1.8511338233947754\n",
            "epoch 3, loss 1.6780940294265747\n",
            "epoch 4, loss 1.520195484161377\n",
            "epoch 5, loss 1.376814603805542\n",
            "epoch 6, loss 1.2485883235931396\n",
            "epoch 7, loss 1.135582447052002\n",
            "epoch 8, loss 1.0367567539215088\n",
            "epoch 9, loss 0.9503534436225891\n",
            "epoch 10, loss 0.8745297193527222\n",
            "epoch 11, loss 0.8077791929244995\n",
            "epoch 12, loss 0.7490330934524536\n",
            "epoch 13, loss 0.6975516080856323\n",
            "epoch 14, loss 0.6527555584907532\n",
            "epoch 15, loss 0.6140956878662109\n",
            "epoch 16, loss 0.5809864401817322\n",
            "epoch 17, loss 0.552798867225647\n",
            "epoch 18, loss 0.5288877487182617\n",
            "epoch 19, loss 0.5086283683776855\n",
            "epoch 20, loss 0.49144554138183594\n",
            "epoch 21, loss 0.4768317937850952\n",
            "epoch 22, loss 0.464353084564209\n",
            "epoch 23, loss 0.4536454677581787\n",
            "epoch 24, loss 0.4444082975387573\n",
            "epoch 25, loss 0.43639498949050903\n",
            "epoch 26, loss 0.4294043183326721\n",
            "epoch 27, loss 0.4232720732688904\n",
            "epoch 28, loss 0.4178638458251953\n",
            "epoch 29, loss 0.4130697250366211\n",
            "epoch 30, loss 0.40879929065704346\n",
            "epoch 31, loss 0.404977411031723\n",
            "epoch 32, loss 0.40154242515563965\n",
            "epoch 33, loss 0.3984421193599701\n",
            "epoch 34, loss 0.3956332802772522\n",
            "epoch 35, loss 0.3930791914463043\n",
            "epoch 36, loss 0.3907487690448761\n",
            "epoch 37, loss 0.38861584663391113\n",
            "epoch 38, loss 0.38665738701820374\n",
            "epoch 39, loss 0.38485416769981384\n",
            "epoch 40, loss 0.3831895887851715\n",
            "epoch 41, loss 0.38164886832237244\n",
            "epoch 42, loss 0.38021957874298096\n",
            "epoch 43, loss 0.3788905441761017\n",
            "epoch 44, loss 0.3776520788669586\n",
            "epoch 45, loss 0.3764955997467041\n",
            "epoch 46, loss 0.3754139542579651\n",
            "epoch 47, loss 0.37440013885498047\n",
            "epoch 48, loss 0.3734482526779175\n",
            "epoch 49, loss 0.3725533187389374\n",
            "epoch 50, loss 0.3717104196548462\n",
            "epoch 51, loss 0.37091532349586487\n",
            "epoch 52, loss 0.3701642155647278\n",
            "epoch 53, loss 0.3694537878036499\n",
            "epoch 54, loss 0.3687812387943268\n",
            "epoch 55, loss 0.36814314126968384\n",
            "epoch 56, loss 0.3675374686717987\n",
            "epoch 57, loss 0.366961807012558\n",
            "epoch 58, loss 0.36641401052474976\n",
            "epoch 59, loss 0.3658922612667084\n",
            "epoch 60, loss 0.36539486050605774\n",
            "epoch 61, loss 0.36492013931274414\n",
            "epoch 62, loss 0.36446642875671387\n",
            "epoch 63, loss 0.3640328049659729\n",
            "epoch 64, loss 0.36361780762672424\n",
            "epoch 65, loss 0.3632204234600067\n",
            "epoch 66, loss 0.36283957958221436\n",
            "epoch 67, loss 0.3624740242958069\n",
            "epoch 68, loss 0.3621232509613037\n",
            "epoch 69, loss 0.36178624629974365\n",
            "epoch 70, loss 0.36146238446235657\n",
            "epoch 71, loss 0.36115074157714844\n",
            "epoch 72, loss 0.3608507812023163\n",
            "epoch 73, loss 0.36056187748908997\n",
            "epoch 74, loss 0.36028340458869934\n",
            "epoch 75, loss 0.3600148856639862\n",
            "epoch 76, loss 0.3597556948661804\n",
            "epoch 77, loss 0.3595055043697357\n",
            "epoch 78, loss 0.35926392674446106\n",
            "epoch 79, loss 0.35903045535087585\n",
            "epoch 80, loss 0.35880476236343384\n",
            "epoch 81, loss 0.35858625173568726\n",
            "epoch 82, loss 0.3583747148513794\n",
            "epoch 83, loss 0.3581700325012207\n",
            "epoch 84, loss 0.357971727848053\n",
            "epoch 85, loss 0.3577794134616852\n",
            "epoch 86, loss 0.35759297013282776\n",
            "epoch 87, loss 0.357412189245224\n",
            "epoch 88, loss 0.35723674297332764\n",
            "epoch 89, loss 0.35706642270088196\n",
            "epoch 90, loss 0.35690099000930786\n",
            "epoch 91, loss 0.356740266084671\n",
            "epoch 92, loss 0.35658401250839233\n",
            "epoch 93, loss 0.3564321994781494\n",
            "epoch 94, loss 0.3562844693660736\n",
            "epoch 95, loss 0.35614076256752014\n",
            "epoch 96, loss 0.35600095987319946\n",
            "epoch 97, loss 0.3558647334575653\n",
            "epoch 98, loss 0.3557322323322296\n",
            "epoch 99, loss 0.35560300946235657\n",
            "epoch 100, loss 0.3554771840572357\n",
            "epoch 101, loss 0.3553544878959656\n",
            "epoch 102, loss 0.355234831571579\n",
            "epoch 103, loss 0.35511815547943115\n",
            "epoch 104, loss 0.35500431060791016\n",
            "epoch 105, loss 0.3548932373523712\n",
            "epoch 106, loss 0.35478493571281433\n",
            "epoch 107, loss 0.35467901825904846\n",
            "epoch 108, loss 0.3545755445957184\n",
            "epoch 109, loss 0.35447460412979126\n",
            "epoch 110, loss 0.354375958442688\n",
            "epoch 111, loss 0.35427960753440857\n",
            "epoch 112, loss 0.3541853725910187\n",
            "epoch 113, loss 0.35409319400787354\n",
            "epoch 114, loss 0.35400301218032837\n",
            "epoch 115, loss 0.3539148271083832\n",
            "epoch 116, loss 0.3538285791873932\n",
            "epoch 117, loss 0.35374417901039124\n",
            "epoch 118, loss 0.35366159677505493\n",
            "epoch 119, loss 0.35358065366744995\n",
            "epoch 120, loss 0.35350146889686584\n",
            "epoch 121, loss 0.35342395305633545\n",
            "epoch 122, loss 0.35334792733192444\n",
            "epoch 123, loss 0.3532733619213104\n",
            "epoch 124, loss 0.35320037603378296\n",
            "epoch 125, loss 0.3531288802623749\n",
            "epoch 126, loss 0.35305875539779663\n",
            "epoch 127, loss 0.3529900014400482\n",
            "epoch 128, loss 0.352922648191452\n",
            "epoch 129, loss 0.35285648703575134\n",
            "epoch 130, loss 0.3527916669845581\n",
            "epoch 131, loss 0.352728009223938\n",
            "epoch 132, loss 0.35266560316085815\n",
            "epoch 133, loss 0.3526042699813843\n",
            "epoch 134, loss 0.35254406929016113\n",
            "epoch 135, loss 0.3524850010871887\n",
            "epoch 136, loss 0.35242700576782227\n",
            "epoch 137, loss 0.3523699939250946\n",
            "epoch 138, loss 0.35231420397758484\n",
            "epoch 139, loss 0.35225915908813477\n",
            "epoch 140, loss 0.3522050380706787\n",
            "epoch 141, loss 0.3521520495414734\n",
            "epoch 142, loss 0.3520999848842621\n",
            "epoch 143, loss 0.3520486354827881\n",
            "epoch 144, loss 0.3519982695579529\n",
            "epoch 145, loss 0.35194873809814453\n",
            "epoch 146, loss 0.35190001130104065\n",
            "epoch 147, loss 0.3518522381782532\n",
            "epoch 148, loss 0.3518051207065582\n",
            "epoch 149, loss 0.3517586290836334\n"
          ]
        }
      ]
    },
    {
      "cell_type": "code",
      "metadata": {
        "colab": {
          "base_uri": "https://localhost:8080/"
        },
        "id": "eRkXOgzqhTRH",
        "outputId": "76b64fe6-05ce-422a-8ed3-77651dd3ae38"
      },
      "source": [
        "rev_vocab = dict((idx,word) for (word,idx) in index.items())\n",
        "weate = prefixes[0].unsqueeze(0)\n",
        "logits = model(weate)\n",
        "probs = nn.functional.softmax(logits, dim=1).squeeze()\n",
        "arg_max = torch.argmax(probs).item()\n",
        "print ('Given \"we ate\", the model predicts \"%s\" with %0.4f probability' % (rev_vocab[arg_max],probs[arg_max]))"
      ],
      "execution_count": 14,
      "outputs": [
        {
          "output_type": "stream",
          "name": "stdout",
          "text": [
            "Given \"we ate\", the model predicts \"apple\" with 0.9931 probability\n"
          ]
        }
      ]
    }
  ]
}